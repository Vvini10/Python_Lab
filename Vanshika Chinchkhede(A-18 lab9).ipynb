{
 "cells": [
  {
   "cell_type": "code",
   "execution_count": 1,
   "metadata": {
    "colab": {
     "base_uri": "https://localhost:8080/"
    },
    "id": "CGQvOitC4nqh",
    "outputId": "94250eca-ebed-41b2-e630-65a4532d9b17"
   },
   "outputs": [
    {
     "data": {
      "text/plain": [
       "12"
      ]
     },
     "execution_count": 1,
     "metadata": {},
     "output_type": "execute_result"
    }
   ],
   "source": [
    "#multipy two variables\n",
    "def m(x,y):\n",
    "  p=x*y\n",
    "  return p\n",
    "\n",
    "m(3,4)"
   ]
  },
  {
   "cell_type": "code",
   "execution_count": 2,
   "metadata": {
    "colab": {
     "base_uri": "https://localhost:8080/"
    },
    "id": "5Fjcaqu443_i",
    "outputId": "3b9a57b2-f67d-4622-d561-bdd088ca70e6"
   },
   "outputs": [
    {
     "name": "stdout",
     "output_type": "stream",
     "text": [
      "hello,navroop!\n"
     ]
    }
   ],
   "source": [
    "# greet\n",
    "def greet (n):\n",
    "  print(f\"hello,{n}!\")\n",
    "greet(\"navroop\")"
   ]
  },
  {
   "cell_type": "code",
   "execution_count": 3,
   "metadata": {
    "colab": {
     "base_uri": "https://localhost:8080/"
    },
    "id": "Npj-SWuH5KIW",
    "outputId": "e61968df-358f-4787-ca1d-2e4017f7bc0a"
   },
   "outputs": [
    {
     "data": {
      "text/plain": [
       "8"
      ]
     },
     "execution_count": 3,
     "metadata": {},
     "output_type": "execute_result"
    }
   ],
   "source": [
    "#global and local scope\n",
    "x=5\n",
    "def o():\n",
    "  y=3\n",
    "  def i():\n",
    "    z=x+y\n",
    "    return z\n",
    "  return i()\n",
    "o()"
   ]
  },
  {
   "cell_type": "code",
   "execution_count": 4,
   "metadata": {
    "colab": {
     "base_uri": "https://localhost:8080/"
    },
    "id": "4ynMw2J95SCR",
    "outputId": "fc1cf60f-a982-4b44-aaab-c0ef6d3bc0a9"
   },
   "outputs": [
    {
     "data": {
      "text/plain": [
       "10"
      ]
     },
     "execution_count": 4,
     "metadata": {},
     "output_type": "execute_result"
    }
   ],
   "source": [
    "#add total\n",
    "t=0\n",
    "def add(n):\n",
    "  global t\n",
    "  t=t+n\n",
    "  return t\n",
    "\n",
    "add(10)"
   ]
  },
  {
   "cell_type": "code",
   "execution_count": 5,
   "metadata": {
    "colab": {
     "base_uri": "https://localhost:8080/"
    },
    "id": "EmM5XbZq7BEz",
    "outputId": "cf98403b-0146-4c1e-cfe2-df3d52efc10d"
   },
   "outputs": [
    {
     "data": {
      "text/plain": [
       "30"
      ]
     },
     "execution_count": 5,
     "metadata": {},
     "output_type": "execute_result"
    }
   ],
   "source": [
    "#largest of 2 and largest of 3\n",
    "def largest(a,b):\n",
    "  if a>b:\n",
    "    return a\n",
    "  else:\n",
    "    return b\n",
    "largest(10,20)\n",
    "def largest_3(a,b,c):\n",
    "  return largest(a,largest(b,c))\n",
    "largest_3(10,20,30)"
   ]
  },
  {
   "cell_type": "code",
   "execution_count": 6,
   "metadata": {
    "colab": {
     "base_uri": "https://localhost:8080/"
    },
    "id": "3Y1XEFvZ6Pka",
    "outputId": "206cabe5-4d2f-4244-c668-4535684d058c"
   },
   "outputs": [
    {
     "name": "stdout",
     "output_type": "stream",
     "text": [
      "2\n",
      "3\n",
      "5\n",
      "7\n",
      "11\n",
      "13\n",
      "17\n",
      "19\n",
      "23\n",
      "29\n",
      "31\n",
      "37\n",
      "41\n",
      "43\n",
      "47\n",
      "53\n",
      "59\n",
      "61\n",
      "67\n",
      "71\n",
      "73\n",
      "79\n",
      "83\n",
      "89\n",
      "97\n"
     ]
    }
   ],
   "source": [
    "#wap python funation to find prime numbers in range 1 to 100\n",
    "def prime():\n",
    "  for i in range(1,101):\n",
    "    if i>1:\n",
    "      for j in range(2,i):\n",
    "        if i%j==0:\n",
    "          break\n",
    "      else:\n",
    "        print(i)\n",
    "prime()"
   ]
  },
  {
   "cell_type": "code",
   "execution_count": 7,
   "metadata": {
    "colab": {
     "base_uri": "https://localhost:8080/"
    },
    "id": "swM2XjAg7y2c",
    "outputId": "8b700efd-5020-45d4-ffb5-f8e1f87f5128"
   },
   "outputs": [
    {
     "name": "stdout",
     "output_type": "stream",
     "text": [
      "not prime\n",
      "prime\n"
     ]
    }
   ],
   "source": [
    " #wap python funtion to check given number is prime or not\n",
    "def check(n):\n",
    "  if n>1:\n",
    "    for i in range(2,n):\n",
    "      if n%i==0:\n",
    "        print(\"not prime\")\n",
    "        break\n",
    "    else:\n",
    "      print(\"prime\")\n",
    "check(10)\n",
    "check(2)"
   ]
  },
  {
   "cell_type": "code",
   "execution_count": 8,
   "metadata": {
    "colab": {
     "base_uri": "https://localhost:8080/"
    },
    "id": "NDRkfQ5K9hhO",
    "outputId": "0b91e8bf-f1a1-4cd2-fe66-d1f48f5a6fdc"
   },
   "outputs": [
    {
     "name": "stdout",
     "output_type": "stream",
     "text": [
      "pushed item 10\n",
      "pushed item 20\n",
      "pushed item 30\n",
      "popped item 30\n",
      "peek element 20\n",
      "the size of the stack is  2\n"
     ]
    },
    {
     "data": {
      "text/plain": [
       "False"
      ]
     },
     "execution_count": 8,
     "metadata": {},
     "output_type": "execute_result"
    }
   ],
   "source": [
    "#stack functions push ,pop,is_empty,peek and size(stack)\n",
    "def push(stack,item):\n",
    "  stack.append(item)\n",
    "  print(\"pushed item\",item)\n",
    "\n",
    "def is_empty(stack):\n",
    "  return len(stack)==0\n",
    "\n",
    "def pop(stack):\n",
    "  if(is_empty(stack)):\n",
    "    return (\"stack is empty\")\n",
    "  return stack.pop()\n",
    "\n",
    "def peek(stack):\n",
    "  if(is_empty(stack)):\n",
    "    return (\"stack is empty\")\n",
    "  return stack[-1]\n",
    "\n",
    "def size(stack):\n",
    "  return len(stack)\n",
    "\n",
    "stack=[]\n",
    "push(stack,10)\n",
    "push(stack,20)\n",
    "push(stack,30)\n",
    "print(\"popped item\",pop(stack))\n",
    "print(\"peek element\",peek(stack))\n",
    "print(\"the size of the stack is \",size(stack))\n",
    "is_empty(stack)\n"
   ]
  },
  {
   "cell_type": "code",
   "execution_count": 9,
   "metadata": {
    "colab": {
     "base_uri": "https://localhost:8080/"
    },
    "id": "fCCbCT3ODuV6",
    "outputId": "b1acb6c4-9a6b-448c-bff2-5e9e310489ea"
   },
   "outputs": [
    {
     "data": {
      "text/plain": [
       "[4, 6, 7, 8, 9]"
      ]
     },
     "execution_count": 9,
     "metadata": {},
     "output_type": "execute_result"
    }
   ],
   "source": [
    "#bubble sort technique\n",
    "a=[9,8,4,6,7]\n",
    "def bubble_sort(a):\n",
    "  for i in range(len(a)):\n",
    "    for j in range(len(a)-i-1):\n",
    "      if a[j]>a[j+1]:\n",
    "        a[j],a[j+1]=a[j+1],a[j]\n",
    "  return a\n",
    "bubble_sort(a)\n"
   ]
  }
 ],
 "metadata": {
  "colab": {
   "provenance": []
  },
  "kernelspec": {
   "display_name": "Python 3",
   "name": "python3"
  },
  "language_info": {
   "codemirror_mode": {
    "name": "ipython",
    "version": 3
   },
   "file_extension": ".py",
   "mimetype": "text/x-python",
   "name": "python",
   "nbconvert_exporter": "python",
   "pygments_lexer": "ipython3",
   "version": "3.11.9"
  }
 },
 "nbformat": 4,
 "nbformat_minor": 0
}
