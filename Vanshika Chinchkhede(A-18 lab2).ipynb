{
 "cells": [
  {
   "cell_type": "code",
   "execution_count": 10,
   "id": "5a79ca04",
   "metadata": {},
   "outputs": [
    {
     "name": "stdout",
     "output_type": "stream",
     "text": [
      "SLICING FUNCTIONS\n",
      "Welcome to Python Club!\n",
      "lcome t\n",
      "Welco\n",
      "me to Python Club!\n",
      "Wloet yhnCu!\n",
      "!\n"
     ]
    }
   ],
   "source": [
    "print(\"SLICING FUNCTIONS\")\n",
    "str=\"Welcome to Python Club!\"\n",
    "print(str[:])\n",
    "print(str[2:9])\n",
    "print(str[:5])\n",
    "print(str[5:])\n",
    "print(str[::2])\n",
    "print(str[-1])"
   ]
  },
  {
   "cell_type": "code",
   "execution_count": 12,
   "id": "4d3483f1",
   "metadata": {},
   "outputs": [
    {
     "name": "stdout",
     "output_type": "stream",
     "text": [
      "TUPLE\n",
      "('a', 'bc', 78, 1.23)\n",
      "('d', 45)\n",
      "a\n",
      "('bc', 78)\n",
      "('a', 'bc', 78, 1.23, 'd', 45)\n"
     ]
    }
   ],
   "source": [
    "print(\"TUPLE\")\n",
    "tup1=('a','bc',78,1.23)\n",
    "tup2=('d',45)\n",
    "print(tup1)\n",
    "print(tup2)\n",
    "print(tup1[0])\n",
    "print(tup1[1:3])\n",
    "print(tup1+tup2)"
   ]
  },
  {
   "cell_type": "code",
   "execution_count": 36,
   "id": "1dc6b812",
   "metadata": {},
   "outputs": [
    {
     "name": "stdout",
     "output_type": "stream",
     "text": [
      "LIST\n",
      "['a', 'b', 'c', 32, 45]\n",
      "['d', 4.5, 'ee']\n",
      "['a', 'b', 'c', 32, 45, 'a', 'b', 'c', 32, 45]\n",
      "4.5\n",
      "Lenght of list\n",
      "5\n",
      "Concatenation in list\n",
      "['a', 'b', 'c', 32, 45, 'd', 4.5, 'ee']\n",
      "Updating list\n",
      "['d', 100, 'ee']\n",
      "Appending the list\n",
      "['d', 100, 'ee', 50]\n",
      "Deletion in list\n",
      "['a', 'b', 32, 45, 'd', 4.5, 'ee']\n",
      "Cloning list\n",
      "['a', 'b', 'c', 32, 45]\n"
     ]
    }
   ],
   "source": [
    "print(\"LIST\")\n",
    "list1=['a','b','c',32,45]\n",
    "list2=['d',4.5,'ee']\n",
    "print(list1)\n",
    "print(list2)\n",
    "print(list1*2)\n",
    "print(list2[1])\n",
    "print(\"Lenght of list\")\n",
    "print(len(list1))\n",
    "print(\"Concatenation in list\")\n",
    "list3=list1+list2\n",
    "print(list3)\n",
    "print(\"Updating list\")\n",
    "list2[1]=100\n",
    "print(list2)\n",
    "print(\"Appending the list\")\n",
    "list2.append(50)\n",
    "print(list2)\n",
    "print(\"Deletion in list\")\n",
    "del list3[2]\n",
    "print(list3)\n",
    "print(\"Cloning list\")\n",
    "list4=list1\n",
    "print(list4)"
   ]
  },
  {
   "cell_type": "code",
   "execution_count": 20,
   "id": "7bdc2fb6",
   "metadata": {},
   "outputs": [
    {
     "name": "stdout",
     "output_type": "stream",
     "text": [
      "DICTIONARY\n",
      "{'a': 'Apple', 'b': 'Banana', 'c': 56, 'd': 88}\n",
      "Apple\n",
      "Banana\n"
     ]
    }
   ],
   "source": [
    "print(\"DICTIONARY\")\n",
    "dict1={'a':\"Apple\",'b':\"Banana\",'c':56,'d':88}\n",
    "print(dict1)\n",
    "print(dict1['a'])\n",
    "print(dict1['b'])"
   ]
  },
  {
   "cell_type": "code",
   "execution_count": 25,
   "id": "53cdb884",
   "metadata": {},
   "outputs": [
    {
     "name": "stdout",
     "output_type": "stream",
     "text": [
      "HERON's FORMULA\n",
      "Enter the 1st side of triangle:5\n",
      "Enter the 2nd side of triangle:6\n",
      "Enter the 3rd side of triangle:7\n",
      "s= 9.0\n",
      "Area of Triangle is  14.696938456699069\n"
     ]
    }
   ],
   "source": [
    "print(\"HERON's FORMULA\")\n",
    "a=float(input(\"Enter the 1st side of triangle:\"))\n",
    "b=float(input(\"Enter the 2nd side of triangle:\"))\n",
    "c=float(input(\"Enter the 3rd side of triangle:\"))\n",
    "s=(a+b+c)/2\n",
    "print(\"s=\",s)\n",
    "area=(s*(s-a)*(s-b)*(s-c))**0.5\n",
    "print(\"Area of Triangle is \",area)"
   ]
  },
  {
   "cell_type": "code",
   "execution_count": 29,
   "id": "cd91bf54",
   "metadata": {},
   "outputs": [
    {
     "name": "stdout",
     "output_type": "stream",
     "text": [
      "EUCLIDEAN FORMULA\n",
      "Enter the pont1 for x:5\n",
      "Enter the pont2 for x:10\n",
      "Enter the pont1 for y:15\n",
      "Enter the pont2 for y:30\n",
      "Distance between two points is  15.811388300841896\n"
     ]
    }
   ],
   "source": [
    "print(\"EUCLIDEAN FORMULA\")\n",
    "x1=float(input(\"Enter the pont1 for x:\"))\n",
    "x2=float(input(\"Enter the pont2 for x:\"))\n",
    "y1=float(input(\"Enter the pont1 for y:\"))\n",
    "y2=float(input(\"Enter the pont2 for y:\"))\n",
    "distance=(((x2-x1)**2)+((y2-y1)**2))**0.5\n",
    "print(\"Distance between two points is \",distance)"
   ]
  },
  {
   "cell_type": "code",
   "execution_count": 28,
   "id": "239804bb",
   "metadata": {},
   "outputs": [
    {
     "name": "stdout",
     "output_type": "stream",
     "text": [
      "AREA OF CIRCLE\n",
      "Enter radius of circle: 5\n",
      "Area of circle is  78.5\n"
     ]
    }
   ],
   "source": [
    "print(\"AREA OF CIRCLE\")\n",
    "r=int(input(\"Enter radius of circle: \"))\n",
    "area=3.14*(r**2)\n",
    "print(\"Area of circle is \",area)"
   ]
  },
  {
   "cell_type": "code",
   "execution_count": 30,
   "id": "69649c18",
   "metadata": {},
   "outputs": [
    {
     "name": "stdout",
     "output_type": "stream",
     "text": [
      "TO FIND ONE's PLACE OF A DIGIT\n",
      "Enter a number: 156\n",
      "One's place digit is  6\n"
     ]
    }
   ],
   "source": [
    "print(\"TO FIND ONE's PLACE OF A DIGIT\")\n",
    "num=int(input(\"Enter a number: \"))\n",
    "digit=num%10\n",
    "print(\"One's place digit is \",digit)"
   ]
  },
  {
   "cell_type": "code",
   "execution_count": 31,
   "id": "43ac7056",
   "metadata": {},
   "outputs": [
    {
     "name": "stdout",
     "output_type": "stream",
     "text": [
      "ASCII values of any character\n",
      "Enter any character: a\n",
      "ASCII value is  97\n"
     ]
    }
   ],
   "source": [
    "print(\"ASCII values of any character\")\n",
    "a=input(\"Enter any character: \")\n",
    "print(\"ASCII value is \",ord(a))"
   ]
  },
  {
   "cell_type": "code",
   "execution_count": 35,
   "id": "2702d0a7",
   "metadata": {},
   "outputs": [
    {
     "name": "stdout",
     "output_type": "stream",
     "text": [
      "Enter a: 45\n",
      "<class 'int'>\n"
     ]
    }
   ],
   "source": [
    "a=input(\"Enter a: \")\n",
    "b=int(a)\n",
    "print(type(b))"
   ]
  },
  {
   "cell_type": "code",
   "execution_count": null,
   "id": "5eb86fe3",
   "metadata": {},
   "outputs": [],
   "source": []
  }
 ],
 "metadata": {
  "kernelspec": {
   "display_name": "Python 3 (ipykernel)",
   "language": "python",
   "name": "python3"
  },
  "language_info": {
   "codemirror_mode": {
    "name": "ipython",
    "version": 3
   },
   "file_extension": ".py",
   "mimetype": "text/x-python",
   "name": "python",
   "nbconvert_exporter": "python",
   "pygments_lexer": "ipython3",
   "version": "3.9.12"
  }
 },
 "nbformat": 4,
 "nbformat_minor": 5
}
