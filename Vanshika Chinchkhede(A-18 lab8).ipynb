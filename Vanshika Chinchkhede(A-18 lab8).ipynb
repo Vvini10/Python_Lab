{
 "cells": [
  {
   "cell_type": "code",
   "execution_count": 4,
   "id": "82b367c9-a907-4946-888c-920fb7495c8e",
   "metadata": {},
   "outputs": [
    {
     "name": "stdout",
     "output_type": "stream",
     "text": [
      "Wild animals make a sound\n",
      "Buddy barks\n"
     ]
    }
   ],
   "source": [
    "#OBJECTS AND CLASS\n",
    "class Animal:               # Parent class\n",
    "    def __init__(self, name):\n",
    "        self.name = name \n",
    "\n",
    "    def speak(self):\n",
    "        print(f\"{self.name} make a sound\")\n",
    "\n",
    "class Dog(Animal):        \n",
    "    def speak(self):\n",
    "        print(f\"{self.name} barks\")\n",
    "\n",
    "a = Animal(\"Wild animals\")\n",
    "a.speak()\n",
    "\n",
    "d = Dog(\"Buddy\")\n",
    "d.speak() "
   ]
  },
  {
   "cell_type": "code",
   "execution_count": 5,
   "id": "be44af4e-6bee-4731-9fa8-ccd69cbfee0f",
   "metadata": {},
   "outputs": [
    {
     "name": "stdout",
     "output_type": "stream",
     "text": [
      "Bat make a sound\n",
      "Bat sleeps\n",
      "Bird flies\n"
     ]
    }
   ],
   "source": [
    "class Bird:\n",
    "    def fly(self):\n",
    "        print(\"Bird flies\")\n",
    "class Bat(Animal,Bird):\n",
    "    \n",
    "    def sleep(self):\n",
    "        print(\"Bat sleeps\")\n",
    "bat=Bat(\"Bat\")\n",
    "bat.speak()\n",
    "bat.sleep()\n",
    "bat.fly()"
   ]
  },
  {
   "cell_type": "code",
   "execution_count": 6,
   "id": "f6062076-1941-44f4-aeaa-1f06b074539a",
   "metadata": {},
   "outputs": [
    {
     "name": "stdout",
     "output_type": "stream",
     "text": [
      "Area: 1794\n",
      "Area: 24871.940000000002\n"
     ]
    }
   ],
   "source": [
    "#polymorphism\n",
    "class Rectangle:\n",
    "    def __init__(self, length, breadth):\n",
    "        self.length = length\n",
    "        self.breadth = breadth\n",
    "        \n",
    "    def area(self):\n",
    "        return self.length * self.breadth  \n",
    "class Circle:\n",
    "    def __init__(self, radius):\n",
    "        self.radius = radius   \n",
    "\n",
    "    def area(self):\n",
    "        return self.radius**2 * 3.14  \n",
    "\n",
    "def print_area(shape):\n",
    "    print(f\"Area: {shape.area()}\")  \n",
    "# Create instances\n",
    "rectangle = Rectangle(23, 78)\n",
    "circle = Circle(89)\n",
    "\n",
    "# Print areas\n",
    "print_area(rectangle)\n",
    "print_area(circle)"
   ]
  }
 ],
 "metadata": {
  "kernelspec": {
   "display_name": "Python 3",
   "language": "python",
   "name": "python3"
  },
  "language_info": {
   "codemirror_mode": {
    "name": "ipython",
    "version": 3
   },
   "file_extension": ".py",
   "mimetype": "text/x-python",
   "name": "python",
   "nbconvert_exporter": "python",
   "pygments_lexer": "ipython3",
   "version": "3.11.9"
  }
 },
 "nbformat": 4,
 "nbformat_minor": 5
}
