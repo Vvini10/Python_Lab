{
 "cells": [
  {
   "cell_type": "code",
   "execution_count": 1,
   "id": "125ccf3a-3ed1-483a-9b02-860a41455d27",
   "metadata": {},
   "outputs": [
    {
     "name": "stdout",
     "output_type": "stream",
     "text": [
      "Hello world\n"
     ]
    }
   ],
   "source": [
    "print(\"Hello world\")"
   ]
  },
  {
   "cell_type": "code",
   "execution_count": 10,
   "id": "6b0177f4-c8ab-487c-95ce-ca1051a7011b",
   "metadata": {},
   "outputs": [
    {
     "name": "stdout",
     "output_type": "stream",
     "text": [
      "Arithmetic Operations\n"
     ]
    },
    {
     "name": "stdin",
     "output_type": "stream",
     "text": [
      "Enter a value for a: 15\n",
      "Enter a value for b: 5\n"
     ]
    },
    {
     "name": "stdout",
     "output_type": "stream",
     "text": [
      "Sum is  20\n",
      "Subtraction is  10\n",
      "Multiplication is  75\n",
      "Division is  3.0\n",
      "Modulus is  0\n",
      "Floor division is  3\n"
     ]
    }
   ],
   "source": [
    "print(\"Arithmetic Operations\")     #This is a comment line\n",
    "\n",
    "a=int(input(\"Enter a value for a:\"))\n",
    "b=int(input(\"Enter a value for b:\"))\n",
    "\n",
    "print(\"Sum is \",a+b)\n",
    "print(\"Subtraction is \",a-b)\n",
    "print(\"Multiplication is \",a*b)\n",
    "print(\"Division is \",a/b)\n",
    "print(\"Modulus is \",a%b)\n",
    "print(\"Floor division is \",a//b)"
   ]
  },
  {
   "cell_type": "code",
   "execution_count": 3,
   "id": "89cc8261-0615-415d-9e84-371729a6f9dc",
   "metadata": {},
   "outputs": [
    {
     "name": "stdout",
     "output_type": "stream",
     "text": [
      "Concatanation Operation\n"
     ]
    },
    {
     "name": "stdin",
     "output_type": "stream",
     "text": [
      "Enter a word: Hello \n",
      "Enter another word: World\n"
     ]
    },
    {
     "name": "stdout",
     "output_type": "stream",
     "text": [
      "Hello World\n"
     ]
    }
   ],
   "source": [
    "print(\"Concatanation Operation\")\n",
    "x=input(\"Enter a word:\")\n",
    "y=input(\"Enter another word:\")\n",
    "print(x+y)"
   ]
  },
  {
   "cell_type": "code",
   "execution_count": 4,
   "id": "6a45e191-cac1-4eac-8f31-73929ff7b575",
   "metadata": {},
   "outputs": [
    {
     "name": "stdout",
     "output_type": "stream",
     "text": [
      "Comparison Operations\n"
     ]
    },
    {
     "name": "stdin",
     "output_type": "stream",
     "text": [
      "Enter a number: 5\n",
      "Enter another number: 4\n"
     ]
    },
    {
     "name": "stdout",
     "output_type": "stream",
     "text": [
      "False\n",
      "True\n",
      "True\n",
      "True\n",
      "False\n",
      "False\n"
     ]
    }
   ],
   "source": [
    "print(\"Comparison Operations\")\n",
    "p=int(input(\"Enter a number:\"))\n",
    "q=int(input(\"Enter another number:\"))\n",
    "print(p==q)\n",
    "print(p!=q)\n",
    "print(p>q)\n",
    "print(p>=q)\n",
    "print(p<q)\n",
    "print(p<=q)\n"
   ]
  },
  {
   "cell_type": "code",
   "execution_count": 9,
   "id": "27c23cc4-899d-4d72-a16d-73da99896021",
   "metadata": {},
   "outputs": [
    {
     "name": "stdout",
     "output_type": "stream",
     "text": [
      "Shortcut Operations\n"
     ]
    },
    {
     "name": "stdin",
     "output_type": "stream",
     "text": [
      "Enter a value: 40\n",
      "Enter another number: 10\n"
     ]
    },
    {
     "name": "stdout",
     "output_type": "stream",
     "text": [
      "50\n",
      "40\n",
      "400\n",
      "40.0\n",
      "0.0\n",
      "0.0\n"
     ]
    }
   ],
   "source": [
    "print(\"Shortcut Operations\")\n",
    "a=int(input(\"Enter a value:\"))\n",
    "b=int(input(\"Enter another number:\"))\n",
    "a+=b\n",
    "print(a)\n",
    "a-=b\n",
    "print(a)\n",
    "a*=b\n",
    "print(a)\n",
    "a/=b\n",
    "print(a)\n",
    "a%=b\n",
    "print(a)\n",
    "a//=b\n",
    "print(a)"
   ]
  },
  {
   "cell_type": "code",
   "execution_count": null,
   "id": "a5416443-64d9-4dcd-9384-faa1a8ee690d",
   "metadata": {},
   "outputs": [],
   "source": []
  }
 ],
 "metadata": {
  "kernelspec": {
   "display_name": "Python 3 (ipykernel)",
   "language": "python",
   "name": "python3"
  },
  "language_info": {
   "codemirror_mode": {
    "name": "ipython",
    "version": 3
   },
   "file_extension": ".py",
   "mimetype": "text/x-python",
   "name": "python",
   "nbconvert_exporter": "python",
   "pygments_lexer": "ipython3",
   "version": "3.9.12"
  }
 },
 "nbformat": 4,
 "nbformat_minor": 5
}
